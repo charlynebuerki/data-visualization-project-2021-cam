{
 "cells": [
  {
   "cell_type": "code",
   "execution_count": null,
   "id": "protective-mayor",
   "metadata": {},
   "outputs": [],
   "source": [
    "# to enable autocomplete\n",
    "%config Completer.use_jedi = False"
   ]
  },
  {
   "cell_type": "markdown",
   "id": "systematic-olympus",
   "metadata": {
    "id": "TaQFCfhxjTk3"
   },
   "source": [
    "**Reminder: TODO every time you want to  commit changes**\n",
    "\n",
    "Go to `Edit > Clear all outputs` to clear all Notebook outputs before committing changes to the repository.\n",
    "\n",
    "# Import necessary libraries"
   ]
  },
  {
   "cell_type": "code",
   "execution_count": null,
   "id": "minute-condition",
   "metadata": {
    "id": "deluxe-right"
   },
   "outputs": [],
   "source": [
    "import numpy as np\n",
    "import pandas as pd"
   ]
  },
  {
   "cell_type": "code",
   "execution_count": null,
   "id": "acute-fields",
   "metadata": {
    "id": "natural-walker"
   },
   "outputs": [],
   "source": [
    "import re\n",
    "import math\n",
    "import json\n",
    "import datetime"
   ]
  },
  {
   "cell_type": "code",
   "execution_count": null,
   "id": "secure-sending",
   "metadata": {
    "id": "divine-accreditation"
   },
   "outputs": [],
   "source": [
    "import matplotlib.pyplot as plt\n",
    "import matplotlib as mpl\n",
    "import seaborn as sns"
   ]
  },
  {
   "cell_type": "code",
   "execution_count": null,
   "id": "centered-broad",
   "metadata": {
    "id": "trained-reflection"
   },
   "outputs": [],
   "source": [
    "%matplotlib inline\n",
    "\n",
    "plt.style.use('default')\n",
    "\n",
    "mpl.rcParams['axes.prop_cycle'] = mpl.cycler('color', ['#0051a2', '#97964a', '#ffd44f', '#f4777f', '#93003a'])\n",
    "\n",
    "mpl.rcParams.update({\n",
    "    \"font.family\": \"serif\",\n",
    "    \"font.serif\": [\"Palatino\"],\n",
    "})\n",
    "mpl.rcParams['figure.figsize'] = [8.3, 5.1]\n",
    "\n",
    "mpl.rcParams['font.size'] = 12\n",
    "mpl.rcParams['legend.fontsize'] = 12\n",
    "\n",
    "mpl.rcParams['xtick.direction'] = 'out'\n",
    "mpl.rcParams['ytick.direction'] = 'out'\n",
    "\n",
    "mpl.rcParams['legend.handlelength'] = 5.0\n",
    "\n",
    "mpl.rcParams['xtick.major.size'] = 5.0\n",
    "mpl.rcParams['xtick.minor.size'] = 3.0\n",
    "mpl.rcParams['ytick.major.size'] = 5.0\n",
    "mpl.rcParams['ytick.minor.size'] = 3.0"
   ]
  },
  {
   "cell_type": "markdown",
   "id": "referenced-addiction",
   "metadata": {
    "id": "yIW1KFCnjbmL"
   },
   "source": [
    "# Listings\n",
    "\n",
    "EDA for the `listings` data."
   ]
  },
  {
   "cell_type": "markdown",
   "id": "ignored-candy",
   "metadata": {
    "id": "scenic-shelter"
   },
   "source": [
    "## Loading the data"
   ]
  },
  {
   "cell_type": "code",
   "execution_count": null,
   "id": "complicated-moderator",
   "metadata": {
    "id": "single-party"
   },
   "outputs": [],
   "source": [
    "# Alternatively, if you are not running the Notebook in Google Colab\n",
    "\n",
    "# from google.colab import drive \n",
    "# drive.mount('/content/drive/')\n",
    "# listings = pd.read_csv('drive/MyDrive/com-480-cam/data/vaud/listings-detailed.csv')\n",
    "\n",
    "geneva = pd.read_csv('../data/geneva/listings-detailed.csv')\n",
    "geneva['region'] = 'Geneva'\n",
    "\n",
    "vaud = pd.read_csv('../data/vaud/listings-detailed.csv')\n",
    "vaud['region'] = 'Vaud'\n",
    "\n",
    "zurich = pd.read_csv('../data/zurich/listings-detailed.csv')\n",
    "zurich['region'] = 'Zurich'\n",
    "\n",
    "listings = pd.concat([geneva, vaud, zurich])\n",
    "\n",
    "print(f'Concatenated pd.DataFrame of shape: {listings.shape}')"
   ]
  },
  {
   "cell_type": "markdown",
   "id": "excess-spring",
   "metadata": {
    "id": "median-kingdom"
   },
   "source": [
    "### Some routine formatting"
   ]
  },
  {
   "cell_type": "code",
   "execution_count": null,
   "id": "sensitive-controversy",
   "metadata": {
    "id": "disturbed-directive"
   },
   "outputs": [],
   "source": [
    "# Convert dates and datetimes to pandas.DateTime\n",
    "def format_dates(df: pd.DataFrame, feature: str, format: str = '%Y-%m-%d'):\n",
    "    df[feature] = pd.to_datetime(df[feature], format=format)\n",
    "    \n",
    "# Format price by removing commas and dollar sign\n",
    "def format_price(price: str):\n",
    "    return float(price[1:].replace(',', ''))\n",
    "\n",
    "# Classify property type\n",
    "def find_type(property_type: str):\n",
    "    \n",
    "    if 'entire' in property_type.lower():\n",
    "        return 'place'\n",
    "    \n",
    "    if 'room' in property_type.lower():\n",
    "        return 'room'\n",
    "    \n",
    "    return 'other'\n",
    "\n",
    "# Time since date\n",
    "def days_since(d: pd.Timestamp) -> float:\n",
    "\n",
    "    today = datetime.datetime.now()\n",
    "    d = d.to_pydatetime()\n",
    "\n",
    "    return (today - d).days"
   ]
  },
  {
   "cell_type": "code",
   "execution_count": null,
   "id": "secret-reaction",
   "metadata": {
    "id": "aggressive-logistics"
   },
   "outputs": [],
   "source": [
    "dated_features = ['last_scraped', 'host_since', 'calendar_last_scraped', \n",
    "                  'first_review', 'last_review']\n",
    "\n",
    "timestamped_features = ['scrape_id']\n",
    "\n",
    "for feature in dated_features:\n",
    "    format_dates(listings, feature)\n",
    "    \n",
    "for feature in timestamped_features:\n",
    "    format_dates(listings, feature, format='%Y%m%d%H%M%S')\n",
    "    \n",
    "listings['price'] = listings.price.apply(format_price)\n",
    "listings['amenities_count'] = listings.amenities.apply(lambda a: len(a))\n",
    "listings['type'] = listings.property_type.apply(find_type)\n",
    "listings['days_host'] = listings.host_since.apply(days_since)\n",
    "listings['days_host'] = listings.days_host.apply(lambda d: 0 if math.isnan(d) else int(d))"
   ]
  },
  {
   "cell_type": "markdown",
   "id": "wrapped-latter",
   "metadata": {
    "id": "eC7g1_87kgK8"
   },
   "source": [
    "## Visualizations"
   ]
  },
  {
   "cell_type": "markdown",
   "id": "parliamentary-finding",
   "metadata": {},
   "source": [
    "### Where are the listings situated?"
   ]
  },
  {
   "cell_type": "code",
   "execution_count": null,
   "id": "regulation-siemens",
   "metadata": {
    "run_control": {
     "marked": true
    }
   },
   "outputs": [],
   "source": [
    "import geopandas as gpd"
   ]
  },
  {
   "cell_type": "code",
   "execution_count": null,
   "id": "supported-banking",
   "metadata": {},
   "outputs": [],
   "source": [
    "nei_geneva = gpd.read_file('../data/geneva/neighbourhoods.geojson')\n",
    "nei_geneva['region'] = 'Geneva'\n",
    "\n",
    "nei_vaud = gpd.read_file('../data/vaud/neighbourhoods.geojson')\n",
    "nei_vaud['region'] = 'Vaud'\n",
    "\n",
    "nei_zurich = gpd.read_file('../data/zurich/neighbourhoods.geojson')\n",
    "nei_zurich['region'] = 'Zurich'\n",
    "\n",
    "def join_listings(gdf: gpd.GeoDataFrame, df: pd.DataFrame, city: str) -> gpd.GeoDataFrame:\n",
    "    # Extract listing number per neighbourhood\n",
    "    nei = pd.DataFrame(df[df['region'] == city].neighbourhood_cleansed.value_counts())\n",
    "    nei['listings'] = nei['neighbourhood_cleansed']\n",
    "    nei.pop('neighbourhood_cleansed')\n",
    "\n",
    "    # Join GEOJSON with listings\n",
    "    gdf = gdf.set_index('neighbourhood').join(nei, on='neighbourhood')\n",
    "    gdf.reset_index(inplace=True)\n",
    "    \n",
    "    return gdf"
   ]
  },
  {
   "cell_type": "code",
   "execution_count": null,
   "id": "wooden-party",
   "metadata": {},
   "outputs": [],
   "source": [
    "fig, ax = plt.subplots(1, 3)\n",
    "\n",
    "for i, nnn in enumerate([nei_geneva, nei_vaud, nei_zurich]):\n",
    "    \n",
    "    city = nnn.loc[0].region\n",
    "    \n",
    "    join_listings(nnn, listings, city).plot(column='listings', cmap=['Reds', 'Blues', 'Purples'][i], \n",
    "                                            legend=True, legend_kwds={\n",
    "                                                'shrink': 0.9,\n",
    "                                                'label': \"Listings per neighbourhood\",\n",
    "                                                'orientation': \"horizontal\"\n",
    "                                            },\n",
    "                                            ax=ax[i])\n",
    "    ax[i].set_title(city)\n",
    "    ax[i].axis('off')\n",
    "    \n",
    "ax[0].set_ylim(46.09, 46.345)\n",
    "\n",
    "plt.tight_layout()\n",
    "plt.savefig('../assets/figures/listings-map.png')\n",
    "plt.show()"
   ]
  },
  {
   "cell_type": "markdown",
   "id": "intellectual-diversity",
   "metadata": {
    "id": "aquatic-rubber"
   },
   "source": [
    "### Pair plot of some variables of interest"
   ]
  },
  {
   "cell_type": "code",
   "execution_count": null,
   "id": "proved-roberts",
   "metadata": {
    "id": "intermediate-grain"
   },
   "outputs": [],
   "source": [
    "g = sns.pairplot(data=listings, vars=['price', 'beds', 'amenities_count', 'days_host', 'review_scores_rating'],\n",
    "                 hue=\"region\")\n",
    "\n",
    "handles = g._legend_data.values()\n",
    "labels = g._legend_data.keys()\n",
    "g._legend.remove()\n",
    "g.fig.legend(handles=handles, labels=labels, loc='upper center', ncol=3)\n",
    "\n",
    "plt.tight_layout()\n",
    "plt.savefig('../assets/figures/listings-pairplot.png')\n",
    "plt.show()"
   ]
  },
  {
   "cell_type": "markdown",
   "id": "graduate-protest",
   "metadata": {
    "id": "combined-winter"
   },
   "source": [
    "### What's the most common property type?"
   ]
  },
  {
   "cell_type": "code",
   "execution_count": null,
   "id": "egyptian-economy",
   "metadata": {
    "id": "integrated-collins"
   },
   "outputs": [],
   "source": [
    "fig, ax = plt.subplots(1, 3, sharey=True)\n",
    "\n",
    "sns.histplot(data=listings[listings['region'] == 'Geneva'], x=\"region\", hue=\"type\", multiple=\"dodge\", stat=\"probability\", ax=ax[0])\n",
    "sns.histplot(data=listings[listings['region'] == 'Vaud'], x=\"region\", hue=\"type\", multiple=\"dodge\", stat=\"probability\", ax=ax[1])\n",
    "sns.histplot(data=listings[listings['region'] == 'Zurich'], x=\"region\", hue=\"type\", multiple=\"dodge\", stat=\"probability\", ax=ax[2])\n",
    "\n",
    "ax[0].get_legend().remove()\n",
    "ax[1].get_legend().remove()\n",
    "\n",
    "fig.suptitle('Frequency of property type in Swiss listings')\n",
    "\n",
    "plt.tight_layout()\n",
    "plt.savefig('../assets/figures/listings-type.png')\n",
    "plt.show()"
   ]
  },
  {
   "cell_type": "markdown",
   "id": "increasing-suggestion",
   "metadata": {
    "id": "adaptive-sender"
   },
   "source": [
    "### How does price distribution vary between entire places and private rooms?"
   ]
  },
  {
   "cell_type": "code",
   "execution_count": null,
   "id": "liberal-colors",
   "metadata": {
    "id": "exposed-shame"
   },
   "outputs": [],
   "source": [
    "fig, ax = plt.subplots(1, 3, sharey=True)\n",
    "\n",
    "sns.kdeplot(data=listings[(listings['region'] == 'Geneva') & (listings.price < 600) & (listings.beds < 10) & (listings.type.isin(['place', 'room']))],\n",
    "            x=\"price\", y=\"beds\", hue=\"type\", fill=False, common_norm=False, ax=ax[0])\n",
    "ax[0].set_title('Geneva')\n",
    "\n",
    "sns.kdeplot(data=listings[(listings['region'] == 'Vaud') & (listings.price < 600) & (listings.beds < 10) & (listings.type.isin(['place', 'room']))],\n",
    "            x=\"price\", y=\"beds\", hue=\"type\", fill=False, common_norm=False, ax=ax[1])\n",
    "ax[1].set_title('Vaud')\n",
    "\n",
    "sns.kdeplot(data=listings[(listings['region'] == 'Zurich') & (listings.price < 600) & (listings.beds < 10) & (listings.type.isin(['place', 'room']))],\n",
    "            x=\"price\", y=\"beds\", hue=\"type\", fill=False, common_norm=False, ax=ax[2])\n",
    "ax[2].set_title('Zurich')\n",
    "\n",
    "ax[0].get_legend().remove()\n",
    "ax[1].get_legend().remove()\n",
    "\n",
    "plt.tight_layout()\n",
    "plt.savefig('../assets/figures/listings-price-dist.png')\n",
    "plt.show()"
   ]
  },
  {
   "cell_type": "markdown",
   "id": "norman-authority",
   "metadata": {},
   "source": [
    "### What do the distributions of the different review categories look like?"
   ]
  },
  {
   "cell_type": "code",
   "execution_count": null,
   "id": "naked-revelation",
   "metadata": {
    "id": "promising-ecology"
   },
   "outputs": [],
   "source": [
    "f, a = plt.subplots(2, 3, sharey=True, sharex=True)\n",
    "\n",
    "reviews = ['review_scores_value', 'review_scores_accuracy', 'review_scores_cleanliness', \n",
    "           'review_scores_checkin', 'review_scores_communication', 'review_scores_location']\n",
    "    \n",
    "sns.violinplot(data=listings, y='review_scores_value',         x='region', ax=a[0, 0])\n",
    "sns.violinplot(data=listings, y='review_scores_accuracy',      x='region', ax=a[0, 1])\n",
    "sns.violinplot(data=listings, y='review_scores_cleanliness',   x='region', ax=a[0, 2])\n",
    "sns.violinplot(data=listings, y='review_scores_checkin',       x='region', ax=a[1, 0])\n",
    "sns.violinplot(data=listings, y='review_scores_communication', x='region', ax=a[1, 1])\n",
    "sns.violinplot(data=listings, y='review_scores_location',      x='region', ax=a[1, 2])\n",
    "\n",
    "a[0, 0].set_ylabel('value')        , a[0, 0].set_xlabel('') #, a[0, 0].set_ylim(6, 11)\n",
    "a[0, 1].set_ylabel('accuracy')     , a[0, 1].set_xlabel('') #, a[0, 1].set_ylim(6, 11)   \n",
    "a[0, 2].set_ylabel('cleanliness')  , a[0, 2].set_xlabel('') #, a[0, 2].set_ylim(6, 11)      \n",
    "a[1, 0].set_ylabel('checkin')      , a[1, 0].set_xlabel('') #, a[1, 0].set_ylim(6, 11)\n",
    "a[1, 1].set_ylabel('communication'), a[1, 1].set_xlabel('') #, a[1, 1].set_ylim(6, 11)\n",
    "a[1, 2].set_ylabel('location')     , a[1, 2].set_xlabel('') #, a[1, 2].set_ylim(6, 11)\n",
    "\n",
    "f.suptitle('Review category distributions')\n",
    "\n",
    "plt.tight_layout()\n",
    "plt.savefig('../assets/figures/listings-reviews.png')\n",
    "plt.show()"
   ]
  },
  {
   "cell_type": "markdown",
   "id": "canadian-glossary",
   "metadata": {},
   "source": [
    "### WordCloud of listing description per city"
   ]
  },
  {
   "cell_type": "code",
   "execution_count": null,
   "id": "international-stack",
   "metadata": {},
   "outputs": [],
   "source": [
    "from wordcloud import WordCloud\n",
    "\n",
    "def clean_text(descriptions: pd.Series) -> str:\n",
    "    \n",
    "    descriptions = ' '.join(listings.description.apply(lambda d: str(d)))\n",
    "    descriptions = descriptions.lower()\n",
    "    descriptions = re.sub('<.*?>|&([a-z0-9]+|#[0-9]{1,6}|#x[0-9a-f]{1,6});', '', descriptions)\n",
    "    descriptions = re.sub(r'[^\\w\\s]', '', descriptions)\n",
    "    \n",
    "    return descriptions\n",
    "\n",
    "fig, ax = plt.subplots(1, 3)\n",
    "\n",
    "for i, city in enumerate(['Geneva', 'Vaud', 'Zurich']):\n",
    "    \n",
    "    text = clean_text(listings[listings['region'] == city].description)\n",
    "    wc = WordCloud(background_color='white', height=500, width=250).generate(text)\n",
    "    \n",
    "    ax[i].imshow(wc, interpolation='bilinear')\n",
    "    ax[i].set_title(city)\n",
    "    ax[i].axis('off')\n",
    "\n",
    "plt.tight_layout()\n",
    "plt.savefig('../assets/figures/listings-wordcloud.png')\n",
    "plt.show()"
   ]
  },
  {
   "cell_type": "markdown",
   "id": "timely-patch",
   "metadata": {},
   "source": [
    "### Parse the amenities into a plottable format"
   ]
  },
  {
   "cell_type": "code",
   "execution_count": null,
   "id": "advanced-envelope",
   "metadata": {},
   "outputs": [],
   "source": [
    "import ast\n",
    "\n",
    "max_amenities_index = listings.amenities.apply(lambda a: len(a)).argmax()\n",
    "\n",
    "all_amenities = listings.amenities.iloc[max_amenities_index]\n",
    "all_amenities = ast.literal_eval(all_amenities)"
   ]
  },
  {
   "cell_type": "markdown",
   "id": "random-valve",
   "metadata": {},
   "source": [
    "This takes quite a while"
   ]
  },
  {
   "cell_type": "code",
   "execution_count": null,
   "id": "sized-tuning",
   "metadata": {},
   "outputs": [],
   "source": [
    "for amenity in all_amenities:\n",
    "    \n",
    "    listings[amenity] = listings.amenities.apply(lambda ams: amenity in ast.literal_eval(ams))"
   ]
  },
  {
   "cell_type": "code",
   "execution_count": null,
   "id": "applied-explanation",
   "metadata": {},
   "outputs": [],
   "source": [
    "def top_amenities(df: pd.DataFrame) -> pd.DataFrame:\n",
    "\n",
    "    amenities = pd.DataFrame({ amenity: df[amenity].value_counts() for amenity in df[all_amenities].columns }).T\n",
    "    amenities['amenity'] = amenities.index\n",
    "    amenities['probability'] = amenities[True]\n",
    "    amenities['probability'] = amenities.probability.apply(lambda p: p / len(df))\n",
    "    amenities.pop(False)\n",
    "    amenities.pop(True)\n",
    "\n",
    "    amenities.sort_values(by='probability', ascending=False, inplace=True)\n",
    "    \n",
    "    return amenities\n",
    "\n",
    "fig, ax = plt.subplots(3, 1, sharex=True)\n",
    "\n",
    "for i, t in enumerate(['room', 'place', 'other']):\n",
    "\n",
    "    sns.barplot(data=top_amenities(listings[listings['type'] == t]).iloc[:5], x='probability', y='amenity', ax=ax[i])\n",
    "    \n",
    "    ax[i].set_title(t)\n",
    "    ax[i].set_xlabel('')\n",
    "    ax[i].set_ylabel('')\n",
    "    \n",
    "ax[2].set_xlabel('Proportion of properties')\n",
    "fig.suptitle('Top 5 amenities per property type')\n",
    "\n",
    "\n",
    "plt.tight_layout()\n",
    "plt.savefig('../assets/figures/listings-amenities.png')\n",
    "plt.show()"
   ]
  },
  {
   "cell_type": "markdown",
   "id": "attached-syndicate",
   "metadata": {
    "id": "BykrnWozjhWY"
   },
   "source": [
    "# Reviews"
   ]
  },
  {
   "cell_type": "code",
   "execution_count": null,
   "id": "ordered-portland",
   "metadata": {},
   "outputs": [],
   "source": [
    "reviews = pd.read_csv('../data/vaud/reviews.csv')"
   ]
  },
  {
   "cell_type": "code",
   "execution_count": null,
   "id": "aerial-camcorder",
   "metadata": {},
   "outputs": [],
   "source": [
    "reviews['date'] = pd.to_datetime(reviews['date'], format='%Y-%m-%d')"
   ]
  },
  {
   "cell_type": "code",
   "execution_count": null,
   "id": "measured-civilization",
   "metadata": {},
   "outputs": [],
   "source": [
    "reviews.sample(10)"
   ]
  },
  {
   "cell_type": "code",
   "execution_count": null,
   "id": "casual-enforcement",
   "metadata": {},
   "outputs": [],
   "source": [
    "def find_top_reviews(n=10, data=reviews):\n",
    "    \"\"\"return list of n ids containing the most amount of reviews\"\"\"\n",
    "    return data.listing_id.value_counts()[0:n].index.tolist()"
   ]
  },
  {
   "cell_type": "code",
   "execution_count": null,
   "id": "metropolitan-plastic",
   "metadata": {},
   "outputs": [],
   "source": [
    "def plot_timeperiod_reviews(start_date=\"2018-01\",\n",
    "                            end_date=\"2021-01\",\n",
    "                            n=1,\n",
    "                            data=reviews):\n",
    "    \"\"\"plot the n average count reviews over the timeperiod\"\"\"\n",
    "    data = data.set_index('date')\n",
    "    data_to_plot = data[data['listing_id'].isin(find_top_reviews(n))].groupby(\n",
    "        pd.Grouper(freq='M')).count()\n",
    "    data_to_plot = data_to_plot.fillna(0)\n",
    "\n",
    "    title_ = \"Number of Reviews for the top %s Listings\" % n\n",
    "    data_to_plot[start_date:end_date].plot(title=title_,\n",
    "                                           ylabel=\"number of reviews\")"
   ]
  },
  {
   "cell_type": "markdown",
   "id": "reverse-personality",
   "metadata": {},
   "source": [
    "### How does the general trend of Reviews compare over a period of time?"
   ]
  },
  {
   "cell_type": "code",
   "execution_count": null,
   "id": "intense-plasma",
   "metadata": {},
   "outputs": [],
   "source": [
    "plot_timeperiod_reviews(start_date=\"2015-01\", end_date='2021-01', n=40)"
   ]
  },
  {
   "cell_type": "code",
   "execution_count": null,
   "id": "central-mechanism",
   "metadata": {},
   "outputs": [],
   "source": [
    "plot_timeperiod_reviews(start_date=\"2017-01\", end_date='2020-01', n=30)"
   ]
  },
  {
   "cell_type": "markdown",
   "id": "parallel-screening",
   "metadata": {},
   "source": [
    "### Within the top 5 most reviewed listings, how do they temporally compare ?"
   ]
  },
  {
   "cell_type": "code",
   "execution_count": null,
   "id": "beneficial-festival",
   "metadata": {},
   "outputs": [],
   "source": [
    "from scipy.signal import savgol_filter"
   ]
  },
  {
   "cell_type": "code",
   "execution_count": null,
   "id": "informed-olive",
   "metadata": {},
   "outputs": [],
   "source": [
    "def plot_n_individual_reviews(start_date=\"2018-01\", end_date=\"2021-01\", n=2 , data=reviews, smoothed=True):\n",
    "    \"\"\"plots the top n individual reviews between the given time period\"\"\"\n",
    "    \n",
    "    data= reviews.set_index('date')\n",
    "    data['count'] = 1 #needed to count\n",
    "    data_to_plot = data[data['listing_id'].isin(find_top_reviews(n))].groupby(['listing_id', pd.Grouper(freq='M')]).count()\n",
    "\n",
    "    pivoted_data = data_to_plot.pivot_table(index='date', columns='listing_id', values='count', fill_value=0)\n",
    "    title_ = \"Number of Reviews of top %s Listings\" %n\n",
    "    \n",
    "    if smoothed:\n",
    "        for col in pivoted_data.columns.to_list():\n",
    "            pivoted_data[col] = savgol_filter(pivoted_data[col],11,3)\n",
    "\n",
    "        pivoted_data[pivoted_data < 0]=0\n",
    "    \n",
    "    pivoted_data.plot(title=title_, ylabel=\"number of reviews\")"
   ]
  },
  {
   "cell_type": "code",
   "execution_count": null,
   "id": "graphic-devil",
   "metadata": {},
   "outputs": [],
   "source": [
    "plot_n_individual_reviews(n=5)"
   ]
  },
  {
   "cell_type": "code",
   "execution_count": null,
   "id": "pediatric-lafayette",
   "metadata": {},
   "outputs": [],
   "source": [
    "plot_n_individual_reviews(n=5, smoothed=False)"
   ]
  },
  {
   "cell_type": "markdown",
   "id": "funny-ireland",
   "metadata": {
    "id": "97zhqbYajjKI"
   },
   "source": [
    "# Calendar"
   ]
  },
  {
   "cell_type": "code",
   "execution_count": null,
   "id": "tested-amount",
   "metadata": {},
   "outputs": [],
   "source": [
    "def price_to_number(price):\n",
    "    if isinstance(price, float):\n",
    "        print(price)\n",
    "    p = price[1:]\n",
    "    if ',' in p:\n",
    "        numb = float(p.replace(',',''))\n",
    "    else:\n",
    "        numb = float(p)\n",
    "    return numb"
   ]
  },
  {
   "cell_type": "code",
   "execution_count": null,
   "id": "entire-mixture",
   "metadata": {},
   "outputs": [],
   "source": [
    "def format_calendar_data(calendar):\n",
    "    calendar['date'] = pd.to_datetime(calendar['date'])\n",
    "    calendar['adjusted_price'] = calendar['adjusted_price'].dropna().apply(price_to_number)\n",
    "    calendar['price'] = calendar['price'].dropna().apply(price_to_number)\n",
    "    calendar.set_index('date', inplace = True)\n",
    "    return calendar"
   ]
  },
  {
   "cell_type": "code",
   "execution_count": null,
   "id": "buried-preservation",
   "metadata": {
    "id": "K9M8xI54jkWp"
   },
   "outputs": [],
   "source": [
    "# recent dates:\n",
    "calendar_recent = pd.read_csv('../data/vaud/calendar_04_02_2021.csv')\n",
    "calendar_recent = format_calendar_data(calendar_recent)\n",
    "\n",
    "# third wave:\n",
    "cal_08_01_2021 = pd.read_csv('../data/vaud/calendar_archives/calendar_08_01_2021.csv')\n",
    "cal_08_01_2021 = format_calendar_data(cal_08_01_2021)\n",
    "\n",
    "# second wave:\n",
    "cal_10_12_2020 = pd.read_csv('../data/vaud/calendar_archives/calendar_10_12_2020.csv')\n",
    "cal_10_12_2020 = format_calendar_data(cal_10_12_2020)\n",
    "\n",
    "# first wave:\n",
    "cal_19_05_2020 = pd.read_csv('../data/vaud/calendar_archives/calendar_19_05_2020.csv')\n",
    "cal_19_05_2020 = format_calendar_data(cal_19_05_2020)\n",
    "\n",
    "\n",
    "# before pandemic:\n",
    "cal_31_01_2020 = pd.read_csv('../data/vaud/calendar_archives/calendar_31_01_2020.csv')\n",
    "cal_31_01_2020 = format_calendar_data(cal_31_01_2020)"
   ]
  },
  {
   "cell_type": "code",
   "execution_count": null,
   "id": "damaged-cross",
   "metadata": {},
   "outputs": [],
   "source": [
    "calendar_recent.head()"
   ]
  },
  {
   "cell_type": "markdown",
   "id": "incoming-dairy",
   "metadata": {},
   "source": [
    "### Mean price:"
   ]
  },
  {
   "cell_type": "code",
   "execution_count": null,
   "id": "immediate-rochester",
   "metadata": {},
   "outputs": [],
   "source": [
    "mean_price = calendar_recent.groupby('listing_id').mean()\n",
    "mean_price.head(4)"
   ]
  },
  {
   "cell_type": "code",
   "execution_count": null,
   "id": "certified-matrix",
   "metadata": {},
   "outputs": [],
   "source": [
    "fig, ax = plt.subplots()\n",
    "sns.distplot(mean_price['price'],\n",
    "             ax=ax,\n",
    "             hist_kws={'alpha': 0.1},\n",
    "             label='price')\n",
    "sns.distplot(mean_price['adjusted_price'],\n",
    "             ax=ax,\n",
    "             hist_kws={'alpha': 0.1},\n",
    "             label='adjusted_price')\n",
    "ax.set_xlim([0, 1000])\n",
    "plt.legend()"
   ]
  },
  {
   "cell_type": "code",
   "execution_count": null,
   "id": "czech-keeping",
   "metadata": {},
   "outputs": [],
   "source": [
    "labels = pd.concat([\n",
    "    pd.Series(np.ones(len(mean_price['price']))),\n",
    "    pd.Series(np.zeros(len(mean_price['adjusted_price'])))\n",
    "])\n",
    "long = pd.DataFrame(\n",
    "    pd.concat([mean_price['price'], mean_price['adjusted_price']]))\n",
    "long['labels'] = labels.values\n",
    "long.columns = ['mean price', 'labels']"
   ]
  },
  {
   "cell_type": "code",
   "execution_count": null,
   "id": "sacred-pierre",
   "metadata": {},
   "outputs": [],
   "source": [
    "fig, ax = plt.subplots()\n",
    "sns.boxplot(x='labels',\n",
    "            data=long,\n",
    "            hue='labels',\n",
    "            y='mean price',\n",
    "            palette=[\"m\", \"g\"])\n",
    "ax.set_ylim([0, 400])\n",
    "plt.title('Boxplots of normal (left) and adjusted (right) price')"
   ]
  },
  {
   "cell_type": "markdown",
   "id": "julian-chicken",
   "metadata": {},
   "source": [
    "### Price categories: "
   ]
  },
  {
   "cell_type": "code",
   "execution_count": null,
   "id": "minus-sustainability",
   "metadata": {},
   "outputs": [],
   "source": [
    "max_ = math.floor(np.max(mean_price['price'].values))\n",
    "min_ = math.floor(np.min(mean_price['price'].values))\n",
    "\n",
    "labels = [\"{0} - {1}\".format(i, i + 100) for i in range(0, max_, 101)]\n",
    "\n",
    "mean_price['category'] = pd.cut(mean_price['price'].values,\n",
    "       range(0, max_, 100),\n",
    "       right=False,\n",
    "       labels=labels)\n",
    "mean_price"
   ]
  },
  {
   "cell_type": "code",
   "execution_count": null,
   "id": "certain-carolina",
   "metadata": {},
   "outputs": [],
   "source": [
    "def label_function(val):\n",
    "    return f'{val / 100 * len(mean_price):.0f}\\n{val:.0f}%'\n",
    "\n",
    "fig, ax1 = plt.subplots(ncols=1, figsize=(10, 5))\n",
    "\n",
    "biggest_cat = mean_price.groupby('category').size()\n",
    "biggest_cat[biggest_cat > 50].plot(kind='pie',\n",
    "                                   autopct=label_function,\n",
    "                                   textprops={'fontsize': 12})\n",
    "ax1.set_ylabel('Per price category', size=22)"
   ]
  },
  {
   "cell_type": "markdown",
   "id": "patent-bonus",
   "metadata": {},
   "source": [
    "### Price predictions over time for one listing:"
   ]
  },
  {
   "cell_type": "code",
   "execution_count": null,
   "id": "noticed-lottery",
   "metadata": {},
   "outputs": [],
   "source": [
    "list_id = 7381\n",
    "one_list = calendar_recent[calendar_recent['listing_id'] == list_id]\n",
    "one_list_08 = cal_08_01_2021[cal_08_01_2021['listing_id'] == list_id]\n",
    "one_list_10 = cal_10_12_2020[cal_10_12_2020['listing_id'] == list_id]\n",
    "one_list_19 = cal_19_05_2020[cal_19_05_2020['listing_id'] == list_id]\n",
    "one_list_31 = cal_31_01_2020[cal_31_01_2020['listing_id'] == list_id]"
   ]
  },
  {
   "cell_type": "code",
   "execution_count": null,
   "id": "heated-operation",
   "metadata": {},
   "outputs": [],
   "source": [
    "# 2020:\n",
    "plt.plot(one_list_10['price']['2020'], label='10_12_2020')\n",
    "plt.plot(one_list_19['price']['2020'], label='19_05_2020')\n",
    "plt.plot(one_list_31['price']['2020'], label='31_01_2020')\n",
    "plt.legend()\n",
    "plt.title('Price predictions in 2020 for one listing:')"
   ]
  },
  {
   "cell_type": "code",
   "execution_count": null,
   "id": "dense-powder",
   "metadata": {},
   "outputs": [],
   "source": [
    "# 2021:\n",
    "plt.plot(one_list['price'], label='most recent')\n",
    "plt.plot(one_list_08['price']['2021'], label='08_01_2021')\n",
    "plt.plot(one_list_19['price']['2021'], label='19_05_2020')\n",
    "plt.legend()\n",
    "plt.title('Price predictions in 2021 for one listing:')"
   ]
  },
  {
   "cell_type": "code",
   "execution_count": null,
   "id": "short-honor",
   "metadata": {},
   "outputs": [],
   "source": [
    "# Holyday dates: \n",
    "pd.to_datetime('2020-01-01')"
   ]
  },
  {
   "cell_type": "code",
   "execution_count": null,
   "id": "phantom-stable",
   "metadata": {},
   "outputs": [],
   "source": []
  }
 ],
 "metadata": {
  "colab": {
   "name": "eda.ipynb",
   "provenance": []
  },
  "kernelspec": {
   "display_name": "Python 3",
   "language": "python",
   "name": "python3"
  },
  "language_info": {
   "codemirror_mode": {
    "name": "ipython",
    "version": 3
   },
   "file_extension": ".py",
   "mimetype": "text/x-python",
   "name": "python",
   "nbconvert_exporter": "python",
   "pygments_lexer": "ipython3",
   "version": "3.8.5"
  },
  "toc": {
   "base_numbering": 1,
   "nav_menu": {},
   "number_sections": true,
   "sideBar": true,
   "skip_h1_title": false,
   "title_cell": "Table of Contents",
   "title_sidebar": "Contents",
   "toc_cell": false,
   "toc_position": {},
   "toc_section_display": true,
   "toc_window_display": true
  }
 },
 "nbformat": 4,
 "nbformat_minor": 5
}
