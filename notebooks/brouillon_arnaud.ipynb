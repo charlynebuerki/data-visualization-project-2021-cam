{
 "cells": [
  {
   "cell_type": "code",
   "execution_count": null,
   "id": "qualified-stake",
   "metadata": {},
   "outputs": [],
   "source": [
    "import geopandas as gpd"
   ]
  },
  {
   "cell_type": "code",
   "execution_count": null,
   "id": "intended-yahoo",
   "metadata": {},
   "outputs": [],
   "source": [
    "neighbourhoods = gpd.read_file('../data/neighbourhoods.geojson')"
   ]
  },
  {
   "cell_type": "code",
   "execution_count": null,
   "id": "aging-symphony",
   "metadata": {},
   "outputs": [],
   "source": [
    "import lux\n",
    "import numpy as np\n",
    "import pandas as pd\n",
    "from pandas_profiling import ProfileReport\n",
    "\n",
    "import json\n",
    "import re\n",
    "from PIL import Image\n",
    "from wordcloud import WordCloud, STOPWORDS, ImageColorGenerator\n",
    "\n",
    "import matplotlib.pyplot as plt\n",
    "import matplotlib as mpl\n",
    "import seaborn as sns\n",
    "\n",
    "import plotly.express as px\n",
    "import plotly.graph_objects as go\n",
    "\n",
    "from ipywidgets import interact, interactive, fixed, interact_manual\n",
    "import ipywidgets as widgets"
   ]
  },
  {
   "cell_type": "markdown",
   "id": "incorporated-literacy",
   "metadata": {},
   "source": [
    "### Configuring Matplotlib styles"
   ]
  },
  {
   "cell_type": "code",
   "execution_count": null,
   "id": "bound-jaguar",
   "metadata": {},
   "outputs": [],
   "source": [
    "plt.style.use('seaborn')\n",
    "\n",
    "mpl.rcParams['figure.dpi'] = 200\n",
    "mpl.rcParams['figure.figsize'] = [15, 10]\n",
    "mpl.rcParams['axes.titlesize'] = 24\n",
    "mpl.rcParams['axes.labelsize'] = 20\n",
    "mpl.rcParams['lines.linewidth'] = 3\n",
    "mpl.rcParams['lines.markersize'] = 10\n",
    "mpl.rcParams['xtick.labelsize'] = 16\n",
    "mpl.rcParams['ytick.labelsize'] = 16"
   ]
  },
  {
   "cell_type": "markdown",
   "id": "harmful-migration",
   "metadata": {},
   "source": [
    "## Load listings data"
   ]
  },
  {
   "cell_type": "code",
   "execution_count": null,
   "id": "beautiful-novelty",
   "metadata": {},
   "outputs": [],
   "source": [
    "listings = pd.read_csv('../data/listings-detailed.csv')"
   ]
  },
  {
   "cell_type": "code",
   "execution_count": null,
   "id": "retained-masters",
   "metadata": {},
   "outputs": [],
   "source": [
    "listings.columns"
   ]
  },
  {
   "cell_type": "code",
   "execution_count": null,
   "id": "terminal-sarah",
   "metadata": {},
   "outputs": [],
   "source": [
    "# Convert dates and datetimes to pandas.DateTime\n",
    "listings['scrape_id'] = pd.to_datetime(listings['scrape_id'], format='%Y%m%d%H%M%S')\n",
    "listings['last_scraped'] = pd.to_datetime(listings['last_scraped'], format='%Y-%m-%d')\n",
    "listings['host_since'] = pd.to_datetime(listings['host_since'], format='%Y-%m-%d')\n",
    "listings['calendar_last_scraped'] = pd.to_datetime(listings['calendar_last_scraped'], format='%Y-%m-%d')\n",
    "listings['first_review'] = pd.to_datetime(listings['first_review'], format='%Y-%m-%d')\n",
    "listings['last_review'] = pd.to_datetime(listings['last_review'], format='%Y-%m-%d')"
   ]
  },
  {
   "cell_type": "code",
   "execution_count": null,
   "id": "reserved-technology",
   "metadata": {},
   "outputs": [],
   "source": [
    "# Format price correctly\n",
    "listings['price'] = listings['price'].apply(lambda p: float(p[1:].replace(',','')))"
   ]
  },
  {
   "cell_type": "code",
   "execution_count": null,
   "id": "embedded-syndicate",
   "metadata": {},
   "outputs": [],
   "source": [
    "neighbourhoods.head()"
   ]
  },
  {
   "cell_type": "code",
   "execution_count": null,
   "id": "commercial-hours",
   "metadata": {},
   "outputs": [],
   "source": [
    "# profile = ProfileReport(listings, title=\"Listings\", explorative=True)"
   ]
  },
  {
   "cell_type": "code",
   "execution_count": null,
   "id": "scheduled-entertainment",
   "metadata": {},
   "outputs": [],
   "source": [
    "# profile"
   ]
  },
  {
   "cell_type": "code",
   "execution_count": null,
   "id": "absolute-solution",
   "metadata": {},
   "outputs": [],
   "source": [
    "# profile.to_file(\"listings-profile.html\")"
   ]
  },
  {
   "cell_type": "code",
   "execution_count": null,
   "id": "bulgarian-merchant",
   "metadata": {},
   "outputs": [],
   "source": [
    "fig, ax = plt.subplots()\n",
    "\n",
    "sns.scatterplot(data=listings[listings['number_of_reviews'] <= 1], x=\"beds\", y=\"price\", ax=ax)\n",
    "sns.scatterplot(data=listings[listings['number_of_reviews'] > 1], x=\"beds\", y=\"price\", ax=ax)\n",
    "\n",
    "ax.set(xlim=(0, 20), ylim=(0, 5000))\n",
    "\n",
    "plt.show()"
   ]
  },
  {
   "cell_type": "code",
   "execution_count": null,
   "id": "amber-surveillance",
   "metadata": {},
   "outputs": [],
   "source": [
    "@interact(text=listings.description)\n",
    "def wordcloudgenerator(text):\n",
    "    wc = WordCloud(background_color=\"white\").generate(text)\n",
    "\n",
    "    plt.imshow(wc, interpolation=\"bilinear\")\n",
    "    plt.axis('off')\n",
    "    plt.show()"
   ]
  },
  {
   "cell_type": "code",
   "execution_count": null,
   "id": "material-variety",
   "metadata": {},
   "outputs": [],
   "source": [
    "f, axes = plt.subplots(2, 3)\n",
    "\n",
    "cleanr = re.compile('<.*?>')\n",
    "\n",
    "wc1 = WordCloud(background_color=\"white\").generate(re.sub(cleanr, '', \" \".join(list(listings[listings.price < 50].description.apply(lambda x: str(x))))))\n",
    "wc2 = WordCloud(background_color=\"white\").generate(re.sub(cleanr, '', \" \".join(list(listings[(listings.price < 100) & (listings.price > 50)].description.apply(lambda x: str(x))))))\n",
    "wc3 = WordCloud(background_color=\"white\").generate(re.sub(cleanr, '', \" \".join(list(listings[(listings.price < 200) & (listings.price > 100)].description.apply(lambda x: str(x))))))\n",
    "wc4 = WordCloud(background_colszor=\"white\").generate(re.sub(cleanr, '', \" \".join(list(listings[(listings.price < 300) & (listings.price > 200)].description.apply(lambda x: str(x))))))\n",
    "wc5 = WordCloud(background_color=\"white\").generate(re.sub(cleanr, '', \" \".join(list(listings[(listings.price < 500) & (listings.price > 300)].description.apply(lambda x: str(x))))))\n",
    "wc6 = WordCloud(background_color=\"white\").generate(re.sub(cleanr, '', \" \".join(list(listings[listings.price > 500].description.apply(lambda x: str(x))))))\n",
    "\n",
    "plt.subplot(231), plt.imshow(wc1, interpolation=\"bilinear\"), plt.axis('off')\n",
    "plt.subplot(232), plt.imshow(wc2, interpolation=\"bilinear\"), plt.axis('off')\n",
    "plt.subplot(233), plt.imshow(wc3, interpolation=\"bilinear\"), plt.axis('off')\n",
    "plt.subplot(234), plt.imshow(wc4, interpolation=\"bilinear\"), plt.axis('off')\n",
    "plt.subplot(235), plt.imshow(wc5, interpolation=\"bilinear\"), plt.axis('off')\n",
    "plt.subplot(236), plt.imshow(wc6, interpolation=\"bilinear\"), plt.axis('off')\n",
    "\n",
    "plt.show()"
   ]
  },
  {
   "cell_type": "markdown",
   "id": "bored-opening",
   "metadata": {},
   "source": [
    "## Load reviews data"
   ]
  },
  {
   "cell_type": "code",
   "execution_count": null,
   "id": "suspended-cholesterol",
   "metadata": {},
   "outputs": [],
   "source": [
    "reviews = pd.read_csv('../data/reviews-detailed.csv')"
   ]
  },
  {
   "cell_type": "code",
   "execution_count": null,
   "id": "confident-criticism",
   "metadata": {},
   "outputs": [],
   "source": [
    "reviews['date'] = pd.to_datetime(reviews['date'], format='%Y-%m-%d')"
   ]
  },
  {
   "cell_type": "code",
   "execution_count": null,
   "id": "dirty-saint",
   "metadata": {},
   "outputs": [],
   "source": [
    "reviews"
   ]
  },
  {
   "cell_type": "markdown",
   "id": "union-grade",
   "metadata": {},
   "source": [
    "## Load calendar data\n"
   ]
  },
  {
   "cell_type": "code",
   "execution_count": null,
   "id": "legal-pharmacology",
   "metadata": {},
   "outputs": [],
   "source": [
    "calendar = pd.read_csv('../data/calendar.csv')"
   ]
  },
  {
   "cell_type": "code",
   "execution_count": null,
   "id": "athletic-flavor",
   "metadata": {},
   "outputs": [],
   "source": [
    "calendar['date'] = pd.to_datetime(calendar['date'], format='%Y-%m-%d')"
   ]
  },
  {
   "cell_type": "code",
   "execution_count": null,
   "id": "innocent-german",
   "metadata": {},
   "outputs": [],
   "source": [
    "calendar"
   ]
  },
  {
   "cell_type": "markdown",
   "id": "regular-restaurant",
   "metadata": {},
   "source": [
    "## Load neighbourhood data"
   ]
  },
  {
   "cell_type": "code",
   "execution_count": null,
   "id": "hairy-bosnia",
   "metadata": {},
   "outputs": [],
   "source": [
    "neighbourhoods = pd.read_csv('../data/neighbourhoods.csv')"
   ]
  },
  {
   "cell_type": "code",
   "execution_count": null,
   "id": "gothic-bicycle",
   "metadata": {},
   "outputs": [],
   "source": [
    "neighbourhoods['neighbourhood_group'].value_counts()"
   ]
  },
  {
   "cell_type": "code",
   "execution_count": null,
   "id": "possible-baker",
   "metadata": {},
   "outputs": [],
   "source": []
  }
 ],
 "metadata": {
  "kernelspec": {
   "display_name": "Datascience",
   "language": "python",
   "name": "datascience"
  },
  "language_info": {
   "codemirror_mode": {
    "name": "ipython",
    "version": 3
   },
   "file_extension": ".py",
   "mimetype": "text/x-python",
   "name": "python",
   "nbconvert_exporter": "python",
   "pygments_lexer": "ipython3",
   "version": "3.8.5"
  }
 },
 "nbformat": 4,
 "nbformat_minor": 5
}
